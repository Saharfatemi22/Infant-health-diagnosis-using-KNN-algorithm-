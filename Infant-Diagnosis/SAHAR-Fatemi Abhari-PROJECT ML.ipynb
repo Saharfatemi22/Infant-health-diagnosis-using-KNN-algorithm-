{
 "cells": [
  {
   "cell_type": "markdown",
   "id": "ba9fdf8d",
   "metadata": {},
   "source": [
    "prozheye machine learning( infant diagnosis )-- Seyedeh sahar fatemi abhari--shomare daneshjui: 985141058\n",
    "raveshe KNN ( infant diagnosis )"
   ]
  },
  {
   "cell_type": "code",
   "execution_count": 565,
   "id": "867940b5",
   "metadata": {},
   "outputs": [],
   "source": [
    "import numpy as np\n",
    "import pandas as pd\n",
    "from sklearn.model_selection import train_test_split\n",
    "from sklearn import metrics\n",
    "from sklearn.metrics import jaccard_score\n",
    "from sklearn.preprocessing import StandardScaler\n",
    "from sklearn.neighbors import KNeighborsClassifier\n",
    "from sklearn.metrics import confusion_matrix\n",
    "from sklearn.metrics import f1_score\n",
    "from sklearn.metrics import accuracy_score\n",
    "import matplotlib.pyplot as plt\n",
    "%matplotlib inline\n"
   ]
  },
  {
   "cell_type": "code",
   "execution_count": 566,
   "id": "fd3429ff",
   "metadata": {},
   "outputs": [
    {
     "name": "stdout",
     "output_type": "stream",
     "text": [
      "    Season   Age   diseases  accident  surgical  fevers  alcohol  smoking  \\\n",
      "0    -0.33  0.69          0         1         1       0      0.8        0   \n",
      "1    -0.33  0.94          1         0         1       0      0.8        1   \n",
      "2    -0.33  0.50          1         0         0       0      1.0       -1   \n",
      "3    -0.33  0.75          0         1         1       0      1.0       -1   \n",
      "4    -0.33  0.67          1         1         0       0      0.8       -1   \n",
      "..     ...   ...        ...       ...       ...     ...      ...      ...   \n",
      "95   -1.00  0.67          1         0         0       0      1.0       -1   \n",
      "96   -1.00  0.61          1         0         0       0      0.8        0   \n",
      "97   -1.00  0.67          1         1         1       0      1.0       -1   \n",
      "98   -1.00  0.64          1         0         1       0      1.0        0   \n",
      "99   -1.00  0.69          0         1         1       0      0.6       -1   \n",
      "\n",
      "    sitting diagnosis  \n",
      "0      0.88         N  \n",
      "1      0.31         O  \n",
      "2      0.50         N  \n",
      "3      0.38         N  \n",
      "4      0.50         O  \n",
      "..      ...       ...  \n",
      "95     0.50         N  \n",
      "96     0.50         N  \n",
      "97     0.31         N  \n",
      "98     0.19         N  \n",
      "99     0.19         N  \n",
      "\n",
      "[100 rows x 10 columns]\n"
     ]
    }
   ],
   "source": [
    "data=pd.read_csv(\"C:\\\\Users\\\\Sahar\\\\Downloads\\\\yadgiri  mashin\\\\soale prozhe\\\\Infant_Diagnosis eslah shode.csv\")\n",
    "data.head()\n",
    "print(data)"
   ]
  },
  {
   "cell_type": "code",
   "execution_count": 567,
   "id": "e0856684",
   "metadata": {},
   "outputs": [
    {
     "data": {
      "text/html": [
       "<div>\n",
       "<style scoped>\n",
       "    .dataframe tbody tr th:only-of-type {\n",
       "        vertical-align: middle;\n",
       "    }\n",
       "\n",
       "    .dataframe tbody tr th {\n",
       "        vertical-align: top;\n",
       "    }\n",
       "\n",
       "    .dataframe thead th {\n",
       "        text-align: right;\n",
       "    }\n",
       "</style>\n",
       "<table border=\"1\" class=\"dataframe\">\n",
       "  <thead>\n",
       "    <tr style=\"text-align: right;\">\n",
       "      <th></th>\n",
       "      <th>Season</th>\n",
       "      <th>Age</th>\n",
       "      <th>diseases</th>\n",
       "      <th>accident</th>\n",
       "      <th>surgical</th>\n",
       "      <th>fevers</th>\n",
       "      <th>alcohol</th>\n",
       "      <th>smoking</th>\n",
       "      <th>sitting</th>\n",
       "      <th>diagnosis</th>\n",
       "    </tr>\n",
       "  </thead>\n",
       "  <tbody>\n",
       "    <tr>\n",
       "      <th>0</th>\n",
       "      <td>-0.33</td>\n",
       "      <td>0.69</td>\n",
       "      <td>0</td>\n",
       "      <td>1</td>\n",
       "      <td>1</td>\n",
       "      <td>0</td>\n",
       "      <td>0.8</td>\n",
       "      <td>0</td>\n",
       "      <td>0.88</td>\n",
       "      <td>N</td>\n",
       "    </tr>\n",
       "    <tr>\n",
       "      <th>1</th>\n",
       "      <td>-0.33</td>\n",
       "      <td>0.94</td>\n",
       "      <td>1</td>\n",
       "      <td>0</td>\n",
       "      <td>1</td>\n",
       "      <td>0</td>\n",
       "      <td>0.8</td>\n",
       "      <td>1</td>\n",
       "      <td>0.31</td>\n",
       "      <td>O</td>\n",
       "    </tr>\n",
       "    <tr>\n",
       "      <th>2</th>\n",
       "      <td>-0.33</td>\n",
       "      <td>0.50</td>\n",
       "      <td>1</td>\n",
       "      <td>0</td>\n",
       "      <td>0</td>\n",
       "      <td>0</td>\n",
       "      <td>1.0</td>\n",
       "      <td>-1</td>\n",
       "      <td>0.50</td>\n",
       "      <td>N</td>\n",
       "    </tr>\n",
       "    <tr>\n",
       "      <th>3</th>\n",
       "      <td>-0.33</td>\n",
       "      <td>0.75</td>\n",
       "      <td>0</td>\n",
       "      <td>1</td>\n",
       "      <td>1</td>\n",
       "      <td>0</td>\n",
       "      <td>1.0</td>\n",
       "      <td>-1</td>\n",
       "      <td>0.38</td>\n",
       "      <td>N</td>\n",
       "    </tr>\n",
       "    <tr>\n",
       "      <th>4</th>\n",
       "      <td>-0.33</td>\n",
       "      <td>0.67</td>\n",
       "      <td>1</td>\n",
       "      <td>1</td>\n",
       "      <td>0</td>\n",
       "      <td>0</td>\n",
       "      <td>0.8</td>\n",
       "      <td>-1</td>\n",
       "      <td>0.50</td>\n",
       "      <td>O</td>\n",
       "    </tr>\n",
       "    <tr>\n",
       "      <th>...</th>\n",
       "      <td>...</td>\n",
       "      <td>...</td>\n",
       "      <td>...</td>\n",
       "      <td>...</td>\n",
       "      <td>...</td>\n",
       "      <td>...</td>\n",
       "      <td>...</td>\n",
       "      <td>...</td>\n",
       "      <td>...</td>\n",
       "      <td>...</td>\n",
       "    </tr>\n",
       "    <tr>\n",
       "      <th>95</th>\n",
       "      <td>-1.00</td>\n",
       "      <td>0.67</td>\n",
       "      <td>1</td>\n",
       "      <td>0</td>\n",
       "      <td>0</td>\n",
       "      <td>0</td>\n",
       "      <td>1.0</td>\n",
       "      <td>-1</td>\n",
       "      <td>0.50</td>\n",
       "      <td>N</td>\n",
       "    </tr>\n",
       "    <tr>\n",
       "      <th>96</th>\n",
       "      <td>-1.00</td>\n",
       "      <td>0.61</td>\n",
       "      <td>1</td>\n",
       "      <td>0</td>\n",
       "      <td>0</td>\n",
       "      <td>0</td>\n",
       "      <td>0.8</td>\n",
       "      <td>0</td>\n",
       "      <td>0.50</td>\n",
       "      <td>N</td>\n",
       "    </tr>\n",
       "    <tr>\n",
       "      <th>97</th>\n",
       "      <td>-1.00</td>\n",
       "      <td>0.67</td>\n",
       "      <td>1</td>\n",
       "      <td>1</td>\n",
       "      <td>1</td>\n",
       "      <td>0</td>\n",
       "      <td>1.0</td>\n",
       "      <td>-1</td>\n",
       "      <td>0.31</td>\n",
       "      <td>N</td>\n",
       "    </tr>\n",
       "    <tr>\n",
       "      <th>98</th>\n",
       "      <td>-1.00</td>\n",
       "      <td>0.64</td>\n",
       "      <td>1</td>\n",
       "      <td>0</td>\n",
       "      <td>1</td>\n",
       "      <td>0</td>\n",
       "      <td>1.0</td>\n",
       "      <td>0</td>\n",
       "      <td>0.19</td>\n",
       "      <td>N</td>\n",
       "    </tr>\n",
       "    <tr>\n",
       "      <th>99</th>\n",
       "      <td>-1.00</td>\n",
       "      <td>0.69</td>\n",
       "      <td>0</td>\n",
       "      <td>1</td>\n",
       "      <td>1</td>\n",
       "      <td>0</td>\n",
       "      <td>0.6</td>\n",
       "      <td>-1</td>\n",
       "      <td>0.19</td>\n",
       "      <td>N</td>\n",
       "    </tr>\n",
       "  </tbody>\n",
       "</table>\n",
       "<p>100 rows × 10 columns</p>\n",
       "</div>"
      ],
      "text/plain": [
       "    Season   Age   diseases  accident  surgical  fevers  alcohol  smoking  \\\n",
       "0    -0.33  0.69          0         1         1       0      0.8        0   \n",
       "1    -0.33  0.94          1         0         1       0      0.8        1   \n",
       "2    -0.33  0.50          1         0         0       0      1.0       -1   \n",
       "3    -0.33  0.75          0         1         1       0      1.0       -1   \n",
       "4    -0.33  0.67          1         1         0       0      0.8       -1   \n",
       "..     ...   ...        ...       ...       ...     ...      ...      ...   \n",
       "95   -1.00  0.67          1         0         0       0      1.0       -1   \n",
       "96   -1.00  0.61          1         0         0       0      0.8        0   \n",
       "97   -1.00  0.67          1         1         1       0      1.0       -1   \n",
       "98   -1.00  0.64          1         0         1       0      1.0        0   \n",
       "99   -1.00  0.69          0         1         1       0      0.6       -1   \n",
       "\n",
       "    sitting diagnosis  \n",
       "0      0.88         N  \n",
       "1      0.31         O  \n",
       "2      0.50         N  \n",
       "3      0.38         N  \n",
       "4      0.50         O  \n",
       "..      ...       ...  \n",
       "95     0.50         N  \n",
       "96     0.50         N  \n",
       "97     0.31         N  \n",
       "98     0.19         N  \n",
       "99     0.19         N  \n",
       "\n",
       "[100 rows x 10 columns]"
      ]
     },
     "execution_count": 567,
     "metadata": {},
     "output_type": "execute_result"
    }
   ],
   "source": [
    "data.columns\n",
    "data.head(100)"
   ]
  },
  {
   "cell_type": "code",
   "execution_count": 568,
   "id": "7af8198d",
   "metadata": {},
   "outputs": [
    {
     "name": "stdout",
     "output_type": "stream",
     "text": [
      "<class 'pandas.core.frame.DataFrame'>\n",
      "RangeIndex: 100 entries, 0 to 99\n",
      "Data columns (total 10 columns):\n",
      " #   Column     Non-Null Count  Dtype  \n",
      "---  ------     --------------  -----  \n",
      " 0   Season     100 non-null    float64\n",
      " 1   Age        100 non-null    float64\n",
      " 2    diseases  100 non-null    int64  \n",
      " 3   accident   100 non-null    int64  \n",
      " 4   surgical   100 non-null    int64  \n",
      " 5   fevers     100 non-null    int64  \n",
      " 6   alcohol    100 non-null    float64\n",
      " 7   smoking    100 non-null    int64  \n",
      " 8   sitting    100 non-null    float64\n",
      " 9   diagnosis  100 non-null    object \n",
      "dtypes: float64(4), int64(5), object(1)\n",
      "memory usage: 7.9+ KB\n"
     ]
    }
   ],
   "source": [
    "data.info()"
   ]
  },
  {
   "cell_type": "code",
   "execution_count": 569,
   "id": "24e24e92",
   "metadata": {},
   "outputs": [
    {
     "data": {
      "text/html": [
       "<div>\n",
       "<style scoped>\n",
       "    .dataframe tbody tr th:only-of-type {\n",
       "        vertical-align: middle;\n",
       "    }\n",
       "\n",
       "    .dataframe tbody tr th {\n",
       "        vertical-align: top;\n",
       "    }\n",
       "\n",
       "    .dataframe thead th {\n",
       "        text-align: right;\n",
       "    }\n",
       "</style>\n",
       "<table border=\"1\" class=\"dataframe\">\n",
       "  <thead>\n",
       "    <tr style=\"text-align: right;\">\n",
       "      <th></th>\n",
       "      <th>Season</th>\n",
       "      <th>Age</th>\n",
       "      <th>diseases</th>\n",
       "      <th>accident</th>\n",
       "      <th>surgical</th>\n",
       "      <th>fevers</th>\n",
       "      <th>alcohol</th>\n",
       "      <th>smoking</th>\n",
       "      <th>sitting</th>\n",
       "      <th>diagnosis</th>\n",
       "    </tr>\n",
       "  </thead>\n",
       "  <tbody>\n",
       "    <tr>\n",
       "      <th>0</th>\n",
       "      <td>-0.33</td>\n",
       "      <td>0.69</td>\n",
       "      <td>0</td>\n",
       "      <td>1</td>\n",
       "      <td>1</td>\n",
       "      <td>0</td>\n",
       "      <td>0.8</td>\n",
       "      <td>0</td>\n",
       "      <td>0.88</td>\n",
       "      <td>0</td>\n",
       "    </tr>\n",
       "    <tr>\n",
       "      <th>1</th>\n",
       "      <td>-0.33</td>\n",
       "      <td>0.94</td>\n",
       "      <td>1</td>\n",
       "      <td>0</td>\n",
       "      <td>1</td>\n",
       "      <td>0</td>\n",
       "      <td>0.8</td>\n",
       "      <td>1</td>\n",
       "      <td>0.31</td>\n",
       "      <td>1</td>\n",
       "    </tr>\n",
       "    <tr>\n",
       "      <th>2</th>\n",
       "      <td>-0.33</td>\n",
       "      <td>0.50</td>\n",
       "      <td>1</td>\n",
       "      <td>0</td>\n",
       "      <td>0</td>\n",
       "      <td>0</td>\n",
       "      <td>1.0</td>\n",
       "      <td>-1</td>\n",
       "      <td>0.50</td>\n",
       "      <td>0</td>\n",
       "    </tr>\n",
       "    <tr>\n",
       "      <th>3</th>\n",
       "      <td>-0.33</td>\n",
       "      <td>0.75</td>\n",
       "      <td>0</td>\n",
       "      <td>1</td>\n",
       "      <td>1</td>\n",
       "      <td>0</td>\n",
       "      <td>1.0</td>\n",
       "      <td>-1</td>\n",
       "      <td>0.38</td>\n",
       "      <td>0</td>\n",
       "    </tr>\n",
       "    <tr>\n",
       "      <th>4</th>\n",
       "      <td>-0.33</td>\n",
       "      <td>0.67</td>\n",
       "      <td>1</td>\n",
       "      <td>1</td>\n",
       "      <td>0</td>\n",
       "      <td>0</td>\n",
       "      <td>0.8</td>\n",
       "      <td>-1</td>\n",
       "      <td>0.50</td>\n",
       "      <td>1</td>\n",
       "    </tr>\n",
       "    <tr>\n",
       "      <th>...</th>\n",
       "      <td>...</td>\n",
       "      <td>...</td>\n",
       "      <td>...</td>\n",
       "      <td>...</td>\n",
       "      <td>...</td>\n",
       "      <td>...</td>\n",
       "      <td>...</td>\n",
       "      <td>...</td>\n",
       "      <td>...</td>\n",
       "      <td>...</td>\n",
       "    </tr>\n",
       "    <tr>\n",
       "      <th>95</th>\n",
       "      <td>-1.00</td>\n",
       "      <td>0.67</td>\n",
       "      <td>1</td>\n",
       "      <td>0</td>\n",
       "      <td>0</td>\n",
       "      <td>0</td>\n",
       "      <td>1.0</td>\n",
       "      <td>-1</td>\n",
       "      <td>0.50</td>\n",
       "      <td>0</td>\n",
       "    </tr>\n",
       "    <tr>\n",
       "      <th>96</th>\n",
       "      <td>-1.00</td>\n",
       "      <td>0.61</td>\n",
       "      <td>1</td>\n",
       "      <td>0</td>\n",
       "      <td>0</td>\n",
       "      <td>0</td>\n",
       "      <td>0.8</td>\n",
       "      <td>0</td>\n",
       "      <td>0.50</td>\n",
       "      <td>0</td>\n",
       "    </tr>\n",
       "    <tr>\n",
       "      <th>97</th>\n",
       "      <td>-1.00</td>\n",
       "      <td>0.67</td>\n",
       "      <td>1</td>\n",
       "      <td>1</td>\n",
       "      <td>1</td>\n",
       "      <td>0</td>\n",
       "      <td>1.0</td>\n",
       "      <td>-1</td>\n",
       "      <td>0.31</td>\n",
       "      <td>0</td>\n",
       "    </tr>\n",
       "    <tr>\n",
       "      <th>98</th>\n",
       "      <td>-1.00</td>\n",
       "      <td>0.64</td>\n",
       "      <td>1</td>\n",
       "      <td>0</td>\n",
       "      <td>1</td>\n",
       "      <td>0</td>\n",
       "      <td>1.0</td>\n",
       "      <td>0</td>\n",
       "      <td>0.19</td>\n",
       "      <td>0</td>\n",
       "    </tr>\n",
       "    <tr>\n",
       "      <th>99</th>\n",
       "      <td>-1.00</td>\n",
       "      <td>0.69</td>\n",
       "      <td>0</td>\n",
       "      <td>1</td>\n",
       "      <td>1</td>\n",
       "      <td>0</td>\n",
       "      <td>0.6</td>\n",
       "      <td>-1</td>\n",
       "      <td>0.19</td>\n",
       "      <td>0</td>\n",
       "    </tr>\n",
       "  </tbody>\n",
       "</table>\n",
       "<p>100 rows × 10 columns</p>\n",
       "</div>"
      ],
      "text/plain": [
       "    Season   Age   diseases  accident  surgical  fevers  alcohol  smoking  \\\n",
       "0    -0.33  0.69          0         1         1       0      0.8        0   \n",
       "1    -0.33  0.94          1         0         1       0      0.8        1   \n",
       "2    -0.33  0.50          1         0         0       0      1.0       -1   \n",
       "3    -0.33  0.75          0         1         1       0      1.0       -1   \n",
       "4    -0.33  0.67          1         1         0       0      0.8       -1   \n",
       "..     ...   ...        ...       ...       ...     ...      ...      ...   \n",
       "95   -1.00  0.67          1         0         0       0      1.0       -1   \n",
       "96   -1.00  0.61          1         0         0       0      0.8        0   \n",
       "97   -1.00  0.67          1         1         1       0      1.0       -1   \n",
       "98   -1.00  0.64          1         0         1       0      1.0        0   \n",
       "99   -1.00  0.69          0         1         1       0      0.6       -1   \n",
       "\n",
       "    sitting  diagnosis  \n",
       "0      0.88          0  \n",
       "1      0.31          1  \n",
       "2      0.50          0  \n",
       "3      0.38          0  \n",
       "4      0.50          1  \n",
       "..      ...        ...  \n",
       "95     0.50          0  \n",
       "96     0.50          0  \n",
       "97     0.31          0  \n",
       "98     0.19          0  \n",
       "99     0.19          0  \n",
       "\n",
       "[100 rows x 10 columns]"
      ]
     },
     "execution_count": 569,
     "metadata": {},
     "output_type": "execute_result"
    }
   ],
   "source": [
    "\n",
    "cleanup_nums = {\"diagnosis\": {\"N\": 0, \"O\": 1}}\n",
    "#replace words with numbers\n",
    "data = data.replace(cleanup_nums)\n",
    "data.head(100)\n",
    "##############    normal ra 0 darnazar gereftim va altered ra 1."
   ]
  },
  {
   "cell_type": "code",
   "execution_count": 570,
   "id": "68772363",
   "metadata": {},
   "outputs": [],
   "source": [
    "#spliting data\n",
    "X=data.iloc[:, 0:9]\n",
    "#dar x sutun akhar ra shamel nemishavad va hame radif ha shamel mishavad.\n",
    "y=data.iloc[:, 9]\n",
    "#dar y faghat sutune natije ra niaz darim pas khod 9 ra minevisim\n",
    "X_train, X_test, y_train, y_test, =train_test_split(X, y, random_state=0, test_size=0.2)"
   ]
  },
  {
   "cell_type": "code",
   "execution_count": 571,
   "id": "b3081f3c",
   "metadata": {},
   "outputs": [],
   "source": [
    "# baraye har algorithmy ke fasele ra mohasebe mikonad feature minevisim\n",
    "#feature scaling \n",
    "sc_X=StandardScaler()\n",
    "X_train=sc_X.fit_transform(X_train)\n",
    "X_test=sc_X.transform(X_test)"
   ]
  },
  {
   "cell_type": "code",
   "execution_count": 572,
   "id": "ffe06bb0",
   "metadata": {
    "scrolled": true
   },
   "outputs": [
    {
     "data": {
      "text/plain": [
       "100"
      ]
     },
     "execution_count": 572,
     "metadata": {},
     "output_type": "execute_result"
    }
   ],
   "source": [
    "len(y)"
   ]
  },
  {
   "cell_type": "code",
   "execution_count": 573,
   "id": "7e79b124",
   "metadata": {},
   "outputs": [
    {
     "data": {
      "text/plain": [
       "20"
      ]
     },
     "execution_count": 573,
     "metadata": {},
     "output_type": "execute_result"
    }
   ],
   "source": [
    "len(X_test)"
   ]
  },
  {
   "cell_type": "code",
   "execution_count": 574,
   "id": "23ab43a8",
   "metadata": {
    "scrolled": true
   },
   "outputs": [
    {
     "data": {
      "text/plain": [
       "4.47213595499958"
      ]
     },
     "execution_count": 574,
     "metadata": {},
     "output_type": "execute_result"
    }
   ],
   "source": [
    "import math \n",
    "math.sqrt(len(y_test))"
   ]
  },
  {
   "cell_type": "markdown",
   "id": "c139c6c8",
   "metadata": {},
   "source": [
    "adade be dast amade baraye len test y zoj umad(4) va ma nemikhaym ta anjayi ke emkan darad neighbor ha zoj bashand va bayad fard\n",
    "\n",
    "bashe fard behtar va entekhab ma asantar hatesh.baraye hamin dar edame mikhahim eslahesh konim va n_neighbors ra bejaye 4 , 3 \n",
    "\n",
    "migirim."
   ]
  },
  {
   "cell_type": "code",
   "execution_count": 575,
   "id": "4dcd6fa1",
   "metadata": {},
   "outputs": [],
   "source": [
    "# inja N_neighbors hamun k hastesh\n",
    "#va p hamun power parametr baraye tayin metric estefade shode ast ke hamun euclidean ya fasele noghat az ham hastesh.\n",
    "#Define the model: Init K-NN\n",
    "classifier = KNeighborsClassifier(n_neighbors=3, p=2, metric='euclidean')       \n",
    "#p=2 migirim chon halate khuruji be 2 surate normal(N) va altered(O) hastesh.\n",
    "# euclidean baraye andazegiri distance hastesh.\n",
    "#Ehtemalan k=3 kamtarin accuracy ra dashte bashad.\n",
    "\n"
   ]
  },
  {
   "cell_type": "code",
   "execution_count": 576,
   "id": "402bee3f",
   "metadata": {},
   "outputs": [
    {
     "data": {
      "text/plain": [
       "KNeighborsClassifier(metric='euclidean', n_neighbors=3)"
      ]
     },
     "execution_count": 576,
     "metadata": {},
     "output_type": "execute_result"
    }
   ],
   "source": [
    "#fit model\n",
    "classifier.fit(X_train , y_train)"
   ]
  },
  {
   "cell_type": "code",
   "execution_count": 577,
   "id": "7b2c39b9",
   "metadata": {
    "scrolled": true
   },
   "outputs": [
    {
     "data": {
      "text/plain": [
       "array([0, 0, 0, 0, 0, 0, 1, 0, 0, 0, 0, 1, 0, 0, 0, 0, 1, 0, 0, 0],\n",
       "      dtype=int64)"
      ]
     },
     "execution_count": 577,
     "metadata": {},
     "output_type": "execute_result"
    }
   ],
   "source": [
    "#predict the test set results\n",
    "y_pred=classifier.predict(X_test)\n",
    "y_pred\n",
    "#100*0.2= 20 tedade adad haye array khahad bud"
   ]
  },
  {
   "cell_type": "code",
   "execution_count": 578,
   "id": "2c331f23",
   "metadata": {
    "scrolled": true
   },
   "outputs": [
    {
     "name": "stdout",
     "output_type": "stream",
     "text": [
      "[[15  3]\n",
      " [ 2  0]]\n"
     ]
    }
   ],
   "source": [
    "# az confusion matrix baraye arzyabi model estefade mikonim.\n",
    "#Evaluate model\n",
    "CM=confusion_matrix(y_test , y_pred)\n",
    "print(CM)"
   ]
  },
  {
   "cell_type": "markdown",
   "id": "49cefa37",
   "metadata": {},
   "source": [
    "ofoghi prediction va amudi actual hastesh ghotre matris mohem hastesh adad 0 yani 0 nafar altered hastand  va 15 nafar daghighan\n",
    "\n",
    "(correct) normal hastand va adade 3(incorrect) hastesh"
   ]
  },
  {
   "cell_type": "code",
   "execution_count": 579,
   "id": "21ef3eb0",
   "metadata": {},
   "outputs": [
    {
     "name": "stdout",
     "output_type": "stream",
     "text": [
      "f1 score : 0.7714285714285714\n",
      "jacard score : 0.75\n"
     ]
    }
   ],
   "source": [
    "f1 = f1_score(y_test, y_pred, average='weighted') \n",
    "print('f1 score :',f1)\n",
    "##\n",
    "jacard = jaccard_score(y_test, y_pred,pos_label=0)\n",
    "print('jacard score :',jacard)"
   ]
  },
  {
   "cell_type": "code",
   "execution_count": 580,
   "id": "b9bda875",
   "metadata": {},
   "outputs": [
    {
     "name": "stdout",
     "output_type": "stream",
     "text": [
      "0.75\n"
     ]
    }
   ],
   "source": [
    "\n",
    "print(accuracy_score(y_test , y_pred))"
   ]
  },
  {
   "cell_type": "code",
   "execution_count": 581,
   "id": "a3277898",
   "metadata": {},
   "outputs": [
    {
     "data": {
      "text/plain": [
       "Text(42.0, 0.5, 'Truth')"
      ]
     },
     "execution_count": 581,
     "metadata": {},
     "output_type": "execute_result"
    },
    {
     "data": {
      "image/png": "[encoded data removed]",
      "text/plain": [
       "<Figure size 504x360 with 2 Axes>"
      ]
     },
     "metadata": {
      "needs_background": "light"
     },
     "output_type": "display_data"
    }
   ],
   "source": [
    "import seaborn as sn\n",
    "plt.figure(figsize=(7,5))\n",
    "sn.heatmap(CM,annot=True)\n",
    "plt.xlabel('predicted')\n",
    "plt.ylabel('Truth')"
   ]
  },
  {
   "cell_type": "markdown",
   "id": "122a7653",
   "metadata": {},
   "source": [
    "harchizi ruye ghotr(daraye rang sefid va siyah) natije  correct ma hastesh\n",
    "\n",
    "majmu adad ha 20 ast ke haman len(X_test) hastesh.20 adad sample.\n",
    "\n",
    "\n",
    "in shekl neshan midahad faghat 5 incorrect darim va 15 correct darim baraye k=3.\n",
    "\n",
    "\n",
    "neshan midahad 0 bar altered shodan nozadha dar in bazei ke entekhab kardim va 15 bar normal darumadan(meghdare correct)."
   ]
  },
  {
   "cell_type": "markdown",
   "id": "17aca4b4",
   "metadata": {},
   "source": [
    "agar hamin karhara bejaye k=3 baraye k=9 masalan anjam bedim be surate zir khahad bud."
   ]
  },
  {
   "cell_type": "code",
   "execution_count": 582,
   "id": "ecd9cdc0",
   "metadata": {},
   "outputs": [],
   "source": [
    "classifier = KNeighborsClassifier(n_neighbors=9, p=2, metric='euclidean') "
   ]
  },
  {
   "cell_type": "code",
   "execution_count": 583,
   "id": "9c8f2888",
   "metadata": {},
   "outputs": [
    {
     "data": {
      "text/plain": [
       "KNeighborsClassifier(metric='euclidean', n_neighbors=9)"
      ]
     },
     "execution_count": 583,
     "metadata": {},
     "output_type": "execute_result"
    }
   ],
   "source": [
    "#fit model\n",
    "classifier.fit(X_train , y_train)"
   ]
  },
  {
   "cell_type": "code",
   "execution_count": 584,
   "id": "ab72f0de",
   "metadata": {},
   "outputs": [
    {
     "data": {
      "text/plain": [
       "array([0, 0, 0, 0, 0, 0, 0, 0, 0, 0, 0, 0, 0, 0, 0, 0, 0, 0, 0, 0],\n",
       "      dtype=int64)"
      ]
     },
     "execution_count": 584,
     "metadata": {},
     "output_type": "execute_result"
    }
   ],
   "source": [
    "#predict the test set results\n",
    "y_pred=classifier.predict(X_test)\n",
    "y_pred"
   ]
  },
  {
   "cell_type": "code",
   "execution_count": 585,
   "id": "8ca348e8",
   "metadata": {},
   "outputs": [
    {
     "name": "stdout",
     "output_type": "stream",
     "text": [
      "[[18  0]\n",
      " [ 2  0]]\n"
     ]
    }
   ],
   "source": [
    "CM=confusion_matrix(y_test , y_pred)\n",
    "print(CM)"
   ]
  },
  {
   "cell_type": "markdown",
   "id": "b8a0a96c",
   "metadata": {},
   "source": [
    "18 dade dorost va 2 dade incorrect khahim dasht"
   ]
  },
  {
   "cell_type": "code",
   "execution_count": 586,
   "id": "a0e774a0",
   "metadata": {},
   "outputs": [
    {
     "name": "stdout",
     "output_type": "stream",
     "text": [
      "f1 score : 0.8526315789473685\n",
      "jacard score : 0.9\n"
     ]
    }
   ],
   "source": [
    "f1 = f1_score(y_test, y_pred, average='weighted') \n",
    "print('f1 score :',f1)\n",
    "##\n",
    "jacard = jaccard_score(y_test, y_pred,pos_label=0)\n",
    "print('jacard score :',jacard)"
   ]
  },
  {
   "cell_type": "code",
   "execution_count": 587,
   "id": "0630623f",
   "metadata": {},
   "outputs": [
    {
     "name": "stdout",
     "output_type": "stream",
     "text": [
      "0.9\n"
     ]
    }
   ],
   "source": [
    "print(accuracy_score(y_test , y_pred))"
   ]
  },
  {
   "cell_type": "markdown",
   "id": "35a0a737",
   "metadata": {},
   "source": [
    "accuracy bala mire chon 18 correct prediction darim va 2 incorrect darim."
   ]
  },
  {
   "cell_type": "code",
   "execution_count": 588,
   "id": "ae943314",
   "metadata": {},
   "outputs": [
    {
     "data": {
      "text/plain": [
       "Text(42.0, 0.5, 'Truth')"
      ]
     },
     "execution_count": 588,
     "metadata": {},
     "output_type": "execute_result"
    },
    {
     "data": {
      "image/png": "[encoded data removed]",
      "text/plain": [
       "<Figure size 504x360 with 2 Axes>"
      ]
     },
     "metadata": {
      "needs_background": "light"
     },
     "output_type": "display_data"
    }
   ],
   "source": [
    "import seaborn as sn\n",
    "plt.figure(figsize=(7,5))\n",
    "sn.heatmap(CM,annot=True)\n",
    "plt.xlabel('predicted')\n",
    "plt.ylabel('Truth')"
   ]
  },
  {
   "cell_type": "markdown",
   "id": "b2df8e42",
   "metadata": {},
   "source": [
    "baraye k=9         18 nafar nozade normal(correct) va 0 nafar altered(correct)."
   ]
  },
  {
   "cell_type": "markdown",
   "id": "979b55e0",
   "metadata": {},
   "source": [
    "agar hamin karhara bejaye k=9 baraye k=1 masalan anjam bedim be surate zir khahad bud."
   ]
  },
  {
   "cell_type": "code",
   "execution_count": 589,
   "id": "d7674ffc",
   "metadata": {},
   "outputs": [],
   "source": [
    "classifier = KNeighborsClassifier(n_neighbors=1, p=2, metric='euclidean') "
   ]
  },
  {
   "cell_type": "code",
   "execution_count": 590,
   "id": "b05c1440",
   "metadata": {},
   "outputs": [
    {
     "data": {
      "text/plain": [
       "KNeighborsClassifier(metric='euclidean', n_neighbors=1)"
      ]
     },
     "execution_count": 590,
     "metadata": {},
     "output_type": "execute_result"
    }
   ],
   "source": [
    "#fit model\n",
    "classifier.fit(X_train , y_train)"
   ]
  },
  {
   "cell_type": "code",
   "execution_count": 591,
   "id": "88df5354",
   "metadata": {
    "scrolled": true
   },
   "outputs": [
    {
     "data": {
      "text/plain": [
       "array([1, 0, 0, 0, 0, 1, 1, 0, 0, 0, 0, 1, 0, 0, 0, 1, 0, 0, 0, 0],\n",
       "      dtype=int64)"
      ]
     },
     "execution_count": 591,
     "metadata": {},
     "output_type": "execute_result"
    }
   ],
   "source": [
    "#predict the test set results\n",
    "y_pred=classifier.predict(X_test)\n",
    "y_pred"
   ]
  },
  {
   "cell_type": "code",
   "execution_count": 592,
   "id": "54a3e4c4",
   "metadata": {
    "scrolled": true
   },
   "outputs": [
    {
     "name": "stdout",
     "output_type": "stream",
     "text": [
      "[[15  3]\n",
      " [ 0  2]]\n"
     ]
    }
   ],
   "source": [
    "CM=confusion_matrix(y_test , y_pred)\n",
    "print(CM)\n",
    "#baraye k=1"
   ]
  },
  {
   "cell_type": "markdown",
   "id": "39d5746f",
   "metadata": {},
   "source": [
    "yani 15 nafar normal(correct) darim va 2 nafar nozad altered(correct) darim. va 3 incorrect."
   ]
  },
  {
   "cell_type": "code",
   "execution_count": 593,
   "id": "4f7962aa",
   "metadata": {},
   "outputs": [
    {
     "name": "stdout",
     "output_type": "stream",
     "text": [
      "f1 score : 0.8753246753246753\n",
      "jacard score : 0.8333333333333334\n"
     ]
    }
   ],
   "source": [
    "f1 = f1_score(y_test, y_pred, average='weighted') \n",
    "print('f1 score :',f1)\n",
    "##\n",
    "jacard = jaccard_score(y_test, y_pred,pos_label=0)\n",
    "print('jacard score :',jacard)"
   ]
  },
  {
   "cell_type": "code",
   "execution_count": 595,
   "id": "4b331602",
   "metadata": {
    "scrolled": true
   },
   "outputs": [
    {
     "name": "stdout",
     "output_type": "stream",
     "text": [
      "0.85\n"
     ]
    }
   ],
   "source": [
    "print(accuracy_score(y_test , y_pred))\n",
    "#for k=1"
   ]
  },
  {
   "cell_type": "markdown",
   "id": "0fc7356e",
   "metadata": {},
   "source": [
    "accuracy pain mire chon 17 correct prediction darim va 3 incorrect darim."
   ]
  },
  {
   "cell_type": "code",
   "execution_count": 596,
   "id": "cfe52657",
   "metadata": {},
   "outputs": [
    {
     "data": {
      "text/plain": [
       "<Figure size 576x360 with 0 Axes>"
      ]
     },
     "metadata": {},
     "output_type": "display_data"
    },
    {
     "data": {
      "text/plain": [
       "<Figure size 576x360 with 0 Axes>"
      ]
     },
     "metadata": {},
     "output_type": "display_data"
    },
    {
     "data": {
      "text/plain": [
       "<Figure size 576x360 with 0 Axes>"
      ]
     },
     "metadata": {},
     "output_type": "display_data"
    },
    {
     "data": {
      "text/plain": [
       "<Figure size 576x360 with 0 Axes>"
      ]
     },
     "metadata": {},
     "output_type": "display_data"
    },
    {
     "data": {
      "text/plain": [
       "<Figure size 576x360 with 0 Axes>"
      ]
     },
     "metadata": {},
     "output_type": "display_data"
    },
    {
     "data": {
      "text/plain": [
       "<Figure size 576x360 with 0 Axes>"
      ]
     },
     "metadata": {},
     "output_type": "display_data"
    },
    {
     "data": {
      "text/plain": [
       "<Figure size 576x360 with 0 Axes>"
      ]
     },
     "metadata": {},
     "output_type": "display_data"
    },
    {
     "data": {
      "text/plain": [
       "<Figure size 576x360 with 0 Axes>"
      ]
     },
     "metadata": {},
     "output_type": "display_data"
    },
    {
     "data": {
      "text/plain": [
       "<Figure size 576x360 with 0 Axes>"
      ]
     },
     "metadata": {},
     "output_type": "display_data"
    },
    {
     "data": {
      "text/plain": [
       "<Figure size 576x360 with 0 Axes>"
      ]
     },
     "metadata": {},
     "output_type": "display_data"
    },
    {
     "data": {
      "text/plain": [
       "<Figure size 576x360 with 0 Axes>"
      ]
     },
     "metadata": {},
     "output_type": "display_data"
    },
    {
     "data": {
      "image/png": "[encoded data removed]",
      "text/plain": [
       "<Figure size 576x360 with 1 Axes>"
      ]
     },
     "metadata": {
      "needs_background": "light"
     },
     "output_type": "display_data"
    }
   ],
   "source": [
    "\n",
    "#rasm numudar tedad k ha va accuracy\n",
    "lu = 13\n",
    "mean_acc = np.zeros((lu-1))\n",
    "std_acc = np.zeros((lu-1))\n",
    "for n in range(1,lu):  \n",
    "    neigh = KNeighborsClassifier(n_neighbors = n).fit(X_train,y_train)\n",
    "    y_pred=neigh.predict(X_test)\n",
    "    mean_acc[n-1] = metrics.accuracy_score(y_test, y_pred)\n",
    "    \n",
    "    std_acc[n-1]=np.std(y_pred==y_test)/np.sqrt(y_pred.shape[0])\n",
    "    plt.figure(figsize=(8,5))\n",
    "\n",
    "plt.plot(range(1,lu),mean_acc,'purple')\n",
    "\n",
    "\n",
    "plt.fill_between(range(1,lu),mean_acc - 1 * std_acc,mean_acc + 1 * std_acc, alpha=0.10)\n",
    "plt.fill_between(range(1,lu),mean_acc -3 * std_acc,mean_acc + 5 * std_acc, alpha=0.10,color=\"purple\")\n",
    "plt.legend(['Accuracy', '+/- 1xstd', '+/- 3xstd'])\n",
    "plt.plot(range(1,lu),mean_acc,'p',markersize=11)\n",
    "for i in range(1,lu) :\n",
    "    plt.text(i+0.1,mean_acc[i-1],f'{(mean_acc[i-1]):.3f}')\n",
    "plt.ylabel('Accuracy ')\n",
    "plt.xlabel('Number of Neighbors (K)')\n",
    "plt.tight_layout()\n",
    "plt.show()"
   ]
  },
  {
   "cell_type": "markdown",
   "id": "c68eaf02",
   "metadata": {},
   "source": [
    "hamuntor ke dar numudar mibinim accuracy bad az k>=4 ruye 0.9 sabet baghi mimanad\n",
    "va accuracy baraye k=3 kamtarin va mosavi 0.75 hastesh. \n",
    "pas baraye dashtan accuracy bala bayad k ma 4 ya bishtar az 4 bashad.\n",
    "raveshe entekhabi KNN va tozihate digar dar edameye code ha dar bala neveshte shodeand."
   ]
  },
  {
   "cell_type": "markdown",
   "id": "649bd4d7",
   "metadata": {},
   "source": [
    "The end.\n",
    "\n",
    "\n",
    "Ba tashakor az zahamat shoma ostad gerami."
   ]
  },
  {
   "cell_type": "code",
   "execution_count": null,
   "id": "b07703cd",
   "metadata": {},
   "outputs": [],
   "source": []
  }
 ],
 "metadata": {
  "kernelspec": {
   "display_name": "Python 3 (ipykernel)",
   "language": "python",
   "name": "python3"
  },
  "language_info": {
   "codemirror_mode": {
    "name": "ipython",
    "version": 3
   },
   "file_extension": ".py",
   "mimetype": "text/x-python",
   "name": "python",
   "nbconvert_exporter": "python",
   "pygments_lexer": "ipython3",
   "version": "3.9.12"
  }
 },
 "nbformat": 4,
 "nbformat_minor": 5
}
